{
 "cells": [
  {
   "cell_type": "code",
   "execution_count": 1,
   "metadata": {},
   "outputs": [],
   "source": [
    "import numpy as np\n",
    "from tqdm import tqdm"
   ]
  },
  {
   "cell_type": "markdown",
   "metadata": {},
   "source": [
    "## Process input"
   ]
  },
  {
   "cell_type": "code",
   "execution_count": 2,
   "metadata": {},
   "outputs": [
    {
     "name": "stdout",
     "output_type": "stream",
     "text": [
      "\tInput:\n",
      "61 1\n",
      "0 1\n",
      "66 5\n",
      "0 1\n",
      "\n",
      "\tProceesed input:\n",
      "[68  0 65  0 61  0 66 66 66 66 66  0 61 63 66 68 70  0 66  0]\n",
      "\n",
      "\tLength of input:\n",
      "1077\n"
     ]
    }
   ],
   "source": [
    "def melody_txt2arr(txt):\n",
    "    '''\n",
    "    transofrm melody data input a numpy array,\n",
    "    where notes/rests are represeted as non-negative integers\n",
    "    and each element in the numpy array lasted a 16th note, or a quarter of a beat\n",
    "    '''\n",
    "    compacted_array = txt.split(\"\\n\")[:-1]\n",
    "    compacted_array = list(map(lambda x: list(map(int, x.split())), compacted_array))\n",
    "    melody_array = list(map(lambda x: [x[0]]*x[1], compacted_array))\n",
    "    melody_array = [note for sublist in melody_array for note in sublist]\n",
    "    return np.array(melody_array)\n",
    "\n",
    "\n",
    "with open(\"POP909-Dai/001/melody.txt\") as f:\n",
    "    input = f.read()\n",
    "    print(f\"\\tInput:\\n\", input[79:96], sep=\"\")\n",
    "    melody = melody_txt2arr(input)\n",
    "    print(f\"\\n\\tProceesed input:\\n\", melody[80:100], sep=\"\")\n",
    "    print(f\"\\n\\tLength of input:\\n\", len(melody), sep=\"\")"
   ]
  },
  {
   "cell_type": "code",
   "execution_count": 3,
   "metadata": {},
   "outputs": [
    {
     "name": "stdout",
     "output_type": "stream",
     "text": [
      "\tInput:\n",
      "Bb:min [1, 5, 10] 10 2 \n",
      "Eb:min [3, 6, 10] 3 2 \n",
      "B:maj [3, 6, 11] 11 2 \n",
      "\n",
      "\tProceesed input:\n",
      "[[11  3  6 11  0]\n",
      " [11  3  6  9 11]\n",
      " [ 1  1  5  8  0]\n",
      " [ 1  1  5  8  0]\n",
      " [10  1  5 10  0]\n",
      " [10  1  5 10  0]\n",
      " [ 3  3  6 10  0]\n",
      " [ 3  3  6 10  0]\n",
      " [11  3  6 11  0]\n",
      " [11  3  6  9 11]]\n",
      "\n",
      "\tLength of input:\n",
      "284\n"
     ]
    }
   ],
   "source": [
    "def chord_txt2arr(txt):\n",
    "    '''\n",
    "    transform chord data into a numpy array,\n",
    "    where chords are represented as 5 numbers: 1 root note and 4 chord tones (one may be 0/empty)\n",
    "    and each element in the numpy array lasted a beat\n",
    "    '''\n",
    "    compacted_array = txt.split(\"\\n\")[:-1]\n",
    "    compacted_array = list(map(lambda x: x.replace(\",\",\"\").replace(\"[\",\"\").replace(\"]\",\"\"), compacted_array))\n",
    "    compacted_array = list(map(lambda x: list(map(int, x.split()[1:])), compacted_array))\n",
    "    chord_array = []\n",
    "    for line in compacted_array:\n",
    "        for _ in range(line[-1]):\n",
    "            if len(line) == 1:\n",
    "                chord_array.append([0]*5)\n",
    "            else:\n",
    "                chord_array.append([line[-2]] + (line[:-2]+[0]*4)[:4])\n",
    "    return np.array(chord_array)\n",
    "\n",
    "\n",
    "with open(\"POP909-Dai/001/finalized_chord.txt\") as f:\n",
    "    input = f.read()\n",
    "    print(f\"\\tInput:\\n\", input[45:114], sep=\"\")\n",
    "    chord = chord_txt2arr(input)\n",
    "    print(f\"\\n\\tProceesed input:\\n\", chord[80:90], sep=\"\")\n",
    "    print(f\"\\n\\tLength of input:\\n\", len(chord), sep=\"\")"
   ]
  },
  {
   "cell_type": "code",
   "execution_count": 4,
   "metadata": {},
   "outputs": [],
   "source": [
    "NUM_DATA = 909\n",
    "MAX_INPUT_LENGTH = 800\n",
    "\n",
    "def process_input(index):\n",
    "    '''\n",
    "    given the index of the data (between 1 and 909),\n",
    "    return the combine melody and chord data,\n",
    "    where each row represents a beat,\n",
    "    the first 5 values of a row represents the chord\n",
    "    and the last 4 values of a row represent the melody\n",
    "    '''\n",
    "    with open(f\"POP909-Dai/{index:03}/melody.txt\") as f:\n",
    "        melody = melody_txt2arr(f.read())\n",
    "    with open(f\"POP909-Dai/{index:03}/finalized_chord.txt\") as f:\n",
    "        chord = chord_txt2arr(f.read())\n",
    "    melody = np.pad(melody, (0, MAX_INPUT_LENGTH*4-melody.shape[0]), \"constant\", constant_values=0)\n",
    "    melody = np.reshape(melody, (MAX_INPUT_LENGTH,4))\n",
    "    chord = np.pad(chord, ((0,MAX_INPUT_LENGTH-chord.shape[0]),(0,0)), \"constant\", constant_values=0)\n",
    "    return np.hstack((chord, melody))"
   ]
  },
  {
   "cell_type": "code",
   "execution_count": 5,
   "metadata": {},
   "outputs": [
    {
     "name": "stdout",
     "output_type": "stream",
     "text": [
      "100%|██████████| 909/909 [00:04<00:00, 188.93it/s]\n"
     ]
    }
   ],
   "source": [
    "# Process input\n",
    "data = np.zeros((NUM_DATA, MAX_INPUT_LENGTH, 9))\n",
    "\n",
    "for i in tqdm(range(NUM_DATA)):\n",
    "    index = i + 1\n",
    "    data[i,:,:] = process_input(index)\n",
    "\n",
    "with open('./data/processed_input_pad.npy', 'wb') as f:\n",
    "    np.save(f, data)"
   ]
  },
  {
   "cell_type": "markdown",
   "metadata": {},
   "source": [
    "## Process labels"
   ]
  },
  {
   "cell_type": "code",
   "execution_count": 6,
   "metadata": {},
   "outputs": [],
   "source": [
    "def process_label(index, human):\n",
    "    with open(f\"POP909-Dai/{index:03}/human_label{human}.txt\") as f:\n",
    "        label = label_txt2arr(f.read())\n",
    "    label = np.pad(label, (0, MAX_OUTPUT_LENGTH-label.shape[0]), \"constant\", constant_values='')\n",
    "    phrase_vector = np.logical_and(label[0:-1] == label[1:], label[0:-1] != '').astype(int)\n",
    "    phrase_vector = np.pad(phrase_vector, (0,1), \"constant\", constant_values=0)\n",
    "    melody_vector = np.array(list(map(lambda x: x.isupper(), label))).astype(int)\n",
    "    pattern_matrix = np.zeros((MAX_OUTPUT_LENGTH,MAX_OUTPUT_LENGTH))\n",
    "    for i in range(MAX_OUTPUT_LENGTH):\n",
    "        for j in range(i, MAX_OUTPUT_LENGTH):\n",
    "            if label[i] != '' and label[i].lower() == label[j].lower():\n",
    "                pattern_matrix[i,j] = 1\n",
    "                pattern_matrix[j,i] = 1\n",
    "    return phrase_vector, melody_vector, pattern_matrix"
   ]
  },
  {
   "cell_type": "code",
   "execution_count": 7,
   "metadata": {},
   "outputs": [
    {
     "name": "stdout",
     "output_type": "stream",
     "text": [
      "100%|██████████| 909/909 [03:24<00:00,  4.44it/s]\n",
      "100%|██████████| 909/909 [03:08<00:00,  4.82it/s]\n"
     ]
    }
   ],
   "source": [
    "# Process human labels\n",
    "for i in [1, 2]:\n",
    "    phrase_data = np.zeros((NUM_DATA, MAX_OUTPUT_LENGTH))\n",
    "    melody_data = np.zeros((NUM_DATA, MAX_OUTPUT_LENGTH))\n",
    "    pattern_data = np.zeros((NUM_DATA, MAX_OUTPUT_LENGTH, MAX_OUTPUT_LENGTH))\n",
    "\n",
    "    for i in tqdm(range(NUM_DATA)):\n",
    "        index = i + 1\n",
    "        phrase_vector, melody_vector, pattern_matrix = process_label(index, i)\n",
    "        phrase_data[i,:] = phrase_vector\n",
    "        melody_data[i,:] = melody_vector\n",
    "        pattern_data[i,:,:] = pattern_matrix\n",
    "\n",
    "    with open(f'./data/human{i}_pharse_vector.npy', 'wb') as f:\n",
    "        np.save(f, phrase_data)\n",
    "    with open(f'./data/human{i}_melody_vector.npy', 'wb') as f:\n",
    "        np.save(f, melody_data)\n",
    "    with open(f'./data/human{i}_pattern_matrix.npy', 'wb') as f:\n",
    "        np.save(f, pattern_data)\n",
    "\n",
    "    pattern_data = pattern_data.reshape(NUM_DATA, MAX_OUTPUT_LENGTH*MAX_OUTPUT_LENGTH)\n",
    "    ground_data = np.hstack((phrase_data, melody_data, pattern_data))\n",
    "    with open(f'./data/processed_output_pad_human{i}.npy', 'wb') as f:\n",
    "        np.save(f, ground_data)"
   ]
  }
 ],
 "metadata": {
  "kernelspec": {
   "display_name": "Python 3",
   "language": "python",
   "name": "python3"
  },
  "language_info": {
   "codemirror_mode": {
    "name": "ipython",
    "version": 3
   },
   "file_extension": ".py",
   "mimetype": "text/x-python",
   "name": "python",
   "nbconvert_exporter": "python",
   "pygments_lexer": "ipython3",
   "version": "3.7.7"
  }
 },
 "nbformat": 4,
 "nbformat_minor": 4
}
